{
 "cells": [
  {
   "cell_type": "code",
   "execution_count": 1,
   "metadata": {},
   "outputs": [],
   "source": [
    "from lpips_j.lpips import LPIPS\n",
    "import jax"
   ]
  },
  {
   "cell_type": "code",
   "execution_count": 2,
   "metadata": {},
   "outputs": [],
   "source": [
    "key = jax.random.PRNGKey(0)\n",
    "k1, k2, k3 = jax.random.split(key, 3)"
   ]
  },
  {
   "cell_type": "code",
   "execution_count": 4,
   "metadata": {},
   "outputs": [
    {
     "name": "stdout",
     "output_type": "stream",
     "text": [
      "Number of parameters: 14.0 M\n",
      "(1, 64, 64, 3)\n"
     ]
    },
    {
     "data": {
      "text/plain": [
       "(1, 1, 1, 1)"
      ]
     },
     "execution_count": 4,
     "metadata": {},
     "output_type": "execute_result"
    }
   ],
   "source": [
    "lpips = LPIPS()\n",
    "x = jax.random.normal(k1, (1, 3, 64, 64))\n",
    "x = x / x.max()\n",
    "x = x.transpose((0, 2, 3, 1))\n",
    "\n",
    "y = jax.random.normal(k2, (1, 3, 64, 64))\n",
    "y = y / y.max()\n",
    "y = y.transpose((0, 2, 3, 1))\n",
    "\n",
    "params = lpips.init(key, x, x)\n",
    "\n",
    "n_param = sum(x.size for x in jax.tree.leaves(params))\n",
    "print(\"Number of parameters:\", n_param//1e6, \"M\")\n",
    "\n",
    "print(x.shape)\n",
    "\n",
    "loss = lpips.apply(params, x, y)\n",
    "loss.shape"
   ]
  }
 ],
 "metadata": {
  "kernelspec": {
   "display_name": "base",
   "language": "python",
   "name": "python3"
  },
  "language_info": {
   "codemirror_mode": {
    "name": "ipython",
    "version": 3
   },
   "file_extension": ".py",
   "mimetype": "text/x-python",
   "name": "python",
   "nbconvert_exporter": "python",
   "pygments_lexer": "ipython3",
   "version": "3.10.15"
  }
 },
 "nbformat": 4,
 "nbformat_minor": 2
}
