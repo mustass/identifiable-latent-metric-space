{
 "cells": [
  {
   "cell_type": "code",
   "execution_count": 1,
   "metadata": {},
   "outputs": [],
   "source": [
    "import types\n",
    "import collections\n",
    "import numpy as np\n",
    "from random import shuffle\n",
    "from nvidia.dali.pipeline import Pipeline\n",
    "import nvidia.dali.fn as fn\n",
    "import nvidia.dali.types as types\n",
    "\n",
    "batch_size = 16"
   ]
  },
  {
   "cell_type": "code",
   "execution_count": 2,
   "metadata": {},
   "outputs": [],
   "source": [
    "class CelebAIterator(object):\n",
    "    def __init__(self, batch_size, set_name: str='train'):\n",
    "        self.images_dir = \"/home/stasy/ssdb/celeba_manual/images/img_align_celeba/\"\n",
    "        self.batch_size = batch_size\n",
    "        with open(\"/home/stasy/ssdb/celeba_manual/images/\" + \"list_eval_partition.txt\", \"r\") as f:\n",
    "            self.files = [line.rstrip() for line in f if line != \"\"]\n",
    "\n",
    "        if set_name not in [\"train\", \"val\", \"test\"]:\n",
    "            raise ValueError(\"set_name must be one of 'train', 'val', 'test'\")\n",
    "         \n",
    "        set_int = {\"train\": 0, \"val\": 1, \"test\": 2}[set_name]\n",
    "        self.files = [line.split(\" \")[0] for line in self.files if line.split(\" \")[1] == str(set_int)]\n",
    "        print(f\"Found {len(self.files)} images in {set_name} set\")\n",
    "\n",
    "        shuffle(self.files)\n",
    "\n",
    "    def __iter__(self):\n",
    "        self.i = 0\n",
    "        self.n = len(self.files)\n",
    "        return self\n",
    "\n",
    "\n",
    "    @property\n",
    "    def num_outputs(self):\n",
    "        return 1\n",
    "    \n",
    "    def __next__(self):\n",
    "        batch = []\n",
    "        for _ in range(self.batch_size):\n",
    "            jpeg_filename= self.files[self.i]\n",
    "            f = open(self.images_dir + jpeg_filename, \"rb\")\n",
    "            batch.append(np.frombuffer(f.read(), dtype=np.uint8))\n",
    "            self.i = (self.i + 1) % self.n\n",
    "        \n",
    "        return (batch,)"
   ]
  },
  {
   "cell_type": "code",
   "execution_count": 3,
   "metadata": {},
   "outputs": [
    {
     "name": "stdout",
     "output_type": "stream",
     "text": [
      "Found 162770 images in train set\n"
     ]
    }
   ],
   "source": [
    "train_set = CelebAIterator(batch_size, \"train\")"
   ]
  },
  {
   "cell_type": "markdown",
   "metadata": {},
   "source": []
  },
  {
   "cell_type": "code",
   "execution_count": 4,
   "metadata": {},
   "outputs": [],
   "source": [
    "pipe = Pipeline(batch_size=batch_size, num_threads=2, device_id=0)\n",
    "with pipe:\n",
    "    jpegs = fn.external_source(\n",
    "        source=train_set, num_outputs=1, dtype=types.UINT8\n",
    "    )\n",
    "    decode = fn.decoders.image(jpegs, device=\"mixed\")\n",
    "    decode = fn.brightness_contrast(decode, contrast=2)\n",
    "    decode = fn.resize(decode, resize_x=64, resize_y=64)\n",
    "    decode = fn.crop_mirror_normalize(decode, dtype=types.FLOAT, std=[255., 255., 255.], mean=[0., 0., 0.])\n",
    "    decode = fn.transpose(decode, perm=[1, 2, 0])\n",
    "    pipe.set_outputs(decode)"
   ]
  },
  {
   "cell_type": "code",
   "execution_count": 5,
   "metadata": {},
   "outputs": [],
   "source": [
    "pipe.build()\n",
    "pipe_out = pipe.run()"
   ]
  },
  {
   "cell_type": "code",
   "execution_count": 6,
   "metadata": {},
   "outputs": [],
   "source": [
    "batch_cpu = pipe_out[0].as_cpu()"
   ]
  },
  {
   "cell_type": "code",
   "execution_count": 7,
   "metadata": {},
   "outputs": [
    {
     "name": "stdout",
     "output_type": "stream",
     "text": [
      "(64, 64, 3)\n"
     ]
    },
    {
     "data": {
      "text/plain": [
       "<matplotlib.image.AxesImage at 0x73c32a349fd0>"
      ]
     },
     "execution_count": 7,
     "metadata": {},
     "output_type": "execute_result"
    },
    {
     "data": {
      "image/png": "[encoded data removed]",
      "text/plain": [
       "<Figure size 640x480 with 1 Axes>"
      ]
     },
     "metadata": {},
     "output_type": "display_data"
    }
   ],
   "source": [
    "import matplotlib.pyplot as plt\n",
    "\n",
    "img = batch_cpu.at(2)\n",
    "print(img.shape)\n",
    "plt.axis(\"off\")\n",
    "plt.imshow(img)"
   ]
  },
  {
   "cell_type": "code",
   "execution_count": null,
   "metadata": {},
   "outputs": [],
   "source": []
  },
  {
   "cell_type": "code",
   "execution_count": null,
   "metadata": {},
   "outputs": [],
   "source": []
  }
 ],
 "metadata": {
  "kernelspec": {
   "display_name": "Python 3 (ipykernel)",
   "language": "python",
   "name": "python3"
  },
  "language_info": {
   "codemirror_mode": {
    "name": "ipython",
    "version": 3
   },
   "file_extension": ".py",
   "mimetype": "text/x-python",
   "name": "python",
   "nbconvert_exporter": "python",
   "pygments_lexer": "ipython3",
   "version": "3.12.8"
  }
 },
 "nbformat": 4,
 "nbformat_minor": 2
}
