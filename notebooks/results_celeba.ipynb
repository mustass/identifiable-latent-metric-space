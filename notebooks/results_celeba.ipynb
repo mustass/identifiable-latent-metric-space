{
 "cells": [
  {
   "cell_type": "code",
   "execution_count": null,
   "metadata": {},
   "outputs": [],
   "source": [
    "import numpy as np\n",
    "import pandas as pd\n",
    "import matplotlib.pyplot as plt\n",
    "import seaborn as sns\n",
    "import os\n",
    "import sys\n",
    "import matplotlib\n",
    "from matplotlib import rc\n",
    "from matplotlib import cm\n",
    "import matplotlib.pyplot as plt\n",
    "from tueplots import bundles\n",
    "\n",
    "# Load data\n",
    "df = pd.read_csv('results.csv')\n"
   ]
  },
  {
   "cell_type": "markdown",
   "metadata": {},
   "source": [
    "# T-test"
   ]
  },
  {
   "cell_type": "markdown",
   "metadata": {},
   "source": [
    "We want to make two sided t-test to see if geodesic_cv is different from. This is done across all #ensembles. Maybe we want to do within ensemble?\n"
   ]
  },
  {
   "cell_type": "code",
   "execution_count": 5,
   "metadata": {},
   "outputs": [
    {
     "name": "stdout",
     "output_type": "stream",
     "text": [
      "MNIST\n",
      "TtestResult(statistic=-22.331582464645713, pvalue=1.9477555263772584e-40, df=99)\n",
      "TtestResult(statistic=-22.331582464645713, pvalue=9.738777631886292e-41, df=99)\n",
      "TtestResult(statistic=-22.331582464645713, pvalue=1.0, df=99)\n"
     ]
    }
   ],
   "source": [
    "# We want to make two sided t-test to see if geodesic_cv is different from euclidean_cv\n",
    "# using data from df and grouping by ensemles\n",
    "from scipy.stats import ttest_rel\n",
    "\n",
    "# MNIST\n",
    "print(\"MNIST\")\n",
    "print(ttest_rel(df['geolength_cv'], df['euclidean_latent_cv']))\n",
    "print(ttest_rel(df['geolength_cv'], df['euclidean_latent_cv'], alternative='less'))\n",
    "print(ttest_rel(df['geolength_cv'], df['euclidean_latent_cv'], alternative='greater'))\n"
   ]
  },
  {
   "cell_type": "code",
   "execution_count": 6,
   "metadata": {},
   "outputs": [
    {
     "data": {
      "text/html": [
       "<div>\n",
       "<style scoped>\n",
       "    .dataframe tbody tr th:only-of-type {\n",
       "        vertical-align: middle;\n",
       "    }\n",
       "\n",
       "    .dataframe tbody tr th {\n",
       "        vertical-align: top;\n",
       "    }\n",
       "\n",
       "    .dataframe thead th {\n",
       "        text-align: right;\n",
       "    }\n",
       "</style>\n",
       "<table border=\"1\" class=\"dataframe\">\n",
       "  <thead>\n",
       "    <tr style=\"text-align: right;\">\n",
       "      <th></th>\n",
       "      <th>ensemble</th>\n",
       "      <th>null</th>\n",
       "      <th>alternative</th>\n",
       "      <th>t-statistic</th>\n",
       "      <th>p-value</th>\n",
       "    </tr>\n",
       "  </thead>\n",
       "  <tbody>\n",
       "    <tr>\n",
       "      <th>0</th>\n",
       "      <td>8</td>\n",
       "      <td>geodesic variation &lt; euclidean variation</td>\n",
       "      <td>greater</td>\n",
       "      <td>-22.331582</td>\n",
       "      <td>1.0</td>\n",
       "    </tr>\n",
       "  </tbody>\n",
       "</table>\n",
       "</div>"
      ],
      "text/plain": [
       "   ensemble                                      null alternative  \\\n",
       "0         8  geodesic variation < euclidean variation     greater   \n",
       "\n",
       "   t-statistic  p-value  \n",
       "0   -22.331582      1.0  "
      ]
     },
     "execution_count": 6,
     "metadata": {},
     "output_type": "execute_result"
    }
   ],
   "source": [
    "## Arrange the t-test results in a table\n",
    "ttest_results_null_0 = []\n",
    "ttest_results_null_greater = []\n",
    "ttest_results_null_less = []\n",
    "for ensamble in df['n_ensemble'].unique():\n",
    "    ttest_results_null_0.append(ttest_rel(df[df['n_ensemble'] == ensamble]['geolength_cv'], df[df['n_ensemble'] == ensamble]['euclidean_latent_cv']))\n",
    "    ttest_results_null_greater.append(ttest_rel(df[df['n_ensemble'] == ensamble]['geolength_cv'], df[df['n_ensemble'] == ensamble]['euclidean_latent_cv'], alternative='greater'))\n",
    "    ttest_results_null_less.append(ttest_rel(df[df['n_ensemble'] == ensamble]['geolength_cv'], df[df['n_ensemble'] == ensamble]['euclidean_latent_cv'], alternative='less'))\n",
    "\n",
    "ttest_results_null_0 = np.array(ttest_results_null_0)\n",
    "ttest_results_null_greater = np.array(ttest_results_null_greater)\n",
    "ttest_results_null_less = np.array(ttest_results_null_less)\n",
    "\n",
    "ttest_results_null_0 = pd.DataFrame(ttest_results_null_0, columns=['t-statistic', 'p-value'])\n",
    "ttest_results_null_greater = pd.DataFrame(ttest_results_null_greater, columns=['t-statistic', 'p-value'])\n",
    "ttest_results_null_less = pd.DataFrame(ttest_results_null_less, columns=['t-statistic', 'p-value'])\n",
    "\n",
    "ttest_results_null_0['alternative'] = 'two-sided'\n",
    "ttest_results_null_greater['alternative'] = 'greater'\n",
    "ttest_results_null_less['alternative'] = 'less'\n",
    "\n",
    "ttest_results_null_0['null'] = 'no difference'\n",
    "ttest_results_null_greater['null'] = 'geodesic variation < euclidean variation'\n",
    "ttest_results_null_less['null'] = 'geodesic_cv > euclidean_cv'\n",
    "\n",
    "# add the ensemble column\n",
    "ttest_results_null_0['ensemble'] = df['n_ensemble'].unique()\n",
    "ttest_results_null_greater['ensemble'] = df['n_ensemble'].unique()\n",
    "ttest_results_null_less['ensemble'] = df['n_ensemble'].unique()\n",
    "\n",
    "# order by ensemble\n",
    "ttest_results_null_0 = ttest_results_null_0.sort_values(by='ensemble')\n",
    "ttest_results_null_greater = ttest_results_null_greater.sort_values(by='ensemble')\n",
    "ttest_results_null_less = ttest_results_null_less.sort_values(by='ensemble')\n",
    "\n",
    "ttest_results_null_greater\n",
    "\n",
    "# Change the order of the columns\n",
    "ttest_results_null_0 = ttest_results_null_0[['ensemble', 'null','alternative', 't-statistic', 'p-value']]\n",
    "ttest_results_null_greater_save = ttest_results_null_greater[['ensemble', 'null','alternative', 't-statistic', 'p-value']]\n",
    "ttest_results_null_less = ttest_results_null_less[['ensemble', 'null','alternative', 't-statistic', 'p-value']]\n",
    "\n",
    "# export the table in latex format\n",
    "#ttest_results_null_greater_save.to_latex('/home/sm/Dropbox/DTU/thesis/code/jax_manifold_flow/thesis_results/ttest_results_null_0.tex', index=False)\n",
    "\n",
    "ttest_results_null_greater_save"
   ]
  },
  {
   "cell_type": "markdown",
   "metadata": {},
   "source": [
    "# Plots"
   ]
  },
  {
   "cell_type": "markdown",
   "metadata": {},
   "source": [
    "## Hiostograms of (CV) Coefficient of variation $\\frac{\\sigma}{\\mu}$ of euclidean and geodesic lengths respectively."
   ]
  },
  {
   "cell_type": "code",
   "execution_count": 7,
   "metadata": {},
   "outputs": [],
   "source": [
    "plot_fontsize = 11\n",
    "figsize=(6.72, 4.2)\n",
    "rc_fonts = {\n",
    "\"font.family\": \"serif\",\n",
    "\"font.size\": plot_fontsize,\n",
    "\"figure.figsize\": figsize,\n",
    "\"text.usetex\": True,\n",
    "\"text.latex.preamble\":  r\"\"\"\n",
    "        \\usepackage{libertine}\n",
    "        \\usepackage[libertine]{newtxmath}\n",
    "        \"\"\"\n",
    "}\n",
    "#matplotlib.rcParams.update(rc_fonts)\n",
    "\n",
    "matplotlib.rcParams.update(bundles.icml2024())"
   ]
  },
  {
   "cell_type": "code",
   "execution_count": null,
   "metadata": {},
   "outputs": [
    {
     "name": "stderr",
     "output_type": "stream",
     "text": [
      "/tmp/ipykernel_76781/1876009190.py:7: UserWarning: Ignoring `palette` because no `hue` variable has been assigned.\n",
      "  sns.histplot(df, x='geolength_cv', binwidth=0.001, kde=True, stat='probability', common_norm=True, palette=geodesic_palette, label='Geodesic', ax=ax,zorder=2, alpha=0.7)\n",
      "/tmp/ipykernel_76781/1876009190.py:8: UserWarning: Ignoring `palette` because no `hue` variable has been assigned.\n",
      "  sns.histplot(df, x='euclidean_latent_cv', binwidth=0.001, kde=True, stat='probability', common_norm=True, palette=euclidean_palette, label='Euclidean', ax=ax, zorder=1)\n"
     ]
    },
    {
     "data": {
      "image/png": "[encoded data removed]",
      "text/plain": [
       "<Figure size 325x200.861 with 1 Axes>"
      ]
     },
     "metadata": {},
     "output_type": "display_data"
    }
   ],
   "source": [
    "\n",
    "fig, ax = plt.subplots()\n",
    "\n",
    "# Set a different color palette for each histogram\n",
    "geodesic_palette = sns.color_palette(\"Set1\")\n",
    "euclidean_palette = sns.color_palette(\"Set2\")\n",
    "\n",
    "sns.histplot(df, x='geolength_cv', binwidth=0.001, kde=True, stat='probability', common_norm=True, palette=geodesic_palette, label='Geodesic', ax=ax,zorder=2, alpha=0.7)\n",
    "sns.histplot(df, x='euclidean_latent_cv', binwidth=0.001, kde=True, stat='probability', common_norm=True, palette=euclidean_palette, label='Euclidean', ax=ax, zorder=1)\n",
    "\n",
    "ax.set_ylabel('')\n",
    "\n",
    "# Set x and y labels\n",
    "ax.set_xlabel(r'Coefficient of variation')\n",
    "\n",
    "# Add legend\n",
    "ax.legend()\n",
    "ax.set_xlim(0.005, 0.033)\n",
    "ax.set_xticks(np.arange(0.005, 0.034, 0.005))\n",
    "\n",
    "# save the plot as pdf\n",
    "plt.savefig('celeba_prob.pdf', bbox_inches='tight',transparent=True)"
   ]
  },
  {
   "cell_type": "markdown",
   "metadata": {},
   "source": []
  }
 ],
 "metadata": {
  "kernelspec": {
   "display_name": "onnx_identifiable",
   "language": "python",
   "name": "python3"
  },
  "language_info": {
   "codemirror_mode": {
    "name": "ipython",
    "version": 3
   },
   "file_extension": ".py",
   "mimetype": "text/x-python",
   "name": "python",
   "nbconvert_exporter": "python",
   "pygments_lexer": "ipython3",
   "version": "3.10.16"
  }
 },
 "nbformat": 4,
 "nbformat_minor": 2
}
