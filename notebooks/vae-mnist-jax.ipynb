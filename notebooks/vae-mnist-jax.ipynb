{
 "cells": [
  {
   "cell_type": "markdown",
   "metadata": {
    "id": "248_qtulv8jx"
   },
   "source": [
    "# Variational Autoencoders in JAX\n",
    "\n",
    "This notebook shows how to build a deep Variational Autoencoder (VAE) with JAX, trained on the MNIST dataset. The implementation is inspired by a lecture about generative ML at the University of Toronto.\n",
    "\n",
    "A VAE is a kind of autoencoder that outputs a probability distribution in the latent space, unlike their (unvariational) counterpart that outputs a single latent vector instead. Our VAE encoder, instead of learning a good encoding vector in the latent space, gives the parameters of a multidimensional isotropic Gaussian that can be used to sample encodings from the latent space.\n",
    "\n",
    "A quick recap on the inner workings. For an input $x_i$ and it's low-dimensional, latent representation $z$ we approximate the true posterior $p(z \\vert x_i) \\approx q_{\\Phi_i}(z \\vert x_i) = \\mathcal{N}(\\mu_i, \\sigma_i^2)$ by a multidimensional isotropic Gaussian parametrized by $\\Phi_i = (\\mu_i, \\log \\sigma_i)$. This is our encoder. We decode a latent representation $p_\\theta(x \\vert z)$ parameterized by $\\theta$.\n",
    "\n",
    "Ideally, we would train the network as to maximize the data log probability $\\log p(x)$. This is of course intractable; hence maximizing the Evidence Lower Bound (ELBO) serves as our objective placebo. Minimizing the negative ELBO, we get as a loss function:\n",
    "\\begin{align}\n",
    "\\mathcal{L}(\\Phi, \\theta; x) = -\\mathbb{E}_{z \\sim q_{\\Phi}}{\\left[\\log p_\\theta(x \\vert z) \\right]} + KL \\left( q_\\Phi(z \\vert x) \\vert \\vert p(z) \\right)\n",
    "\\end{align}\n",
    "where the second term denotes our divergence of the assumed Gaussian $q_\\Phi$ from the true prior $p(z)$.\n",
    "\n",
    "Now let's define the model we use for MNIST encoding. Our prior $p(z) = \\mathcal{N}(0, I)$ is assumed to be standard Gaussian. The likelihood $p_\\theta(x \\vert z) = \\text{Bernoulli}(\\theta)$ will be a multidimensional binomial where we have a bernoulli parameter for each pixel. The posterior approximation $q_{\\Phi_i}(z \\vert x_i) = \\mathcal{N}(\\mu_i, \\sigma_i^2I)$ is an isotropic Gaussian.\n",
    "\n",
    "Now in the classic implementation of a VAE, we have a set of parameters $\\Phi_i$ for each datapoint, creating a dependency of the number of parameters to the training data size. To circumvent this, we use Amortized Inference (AI) to reduce the number of model parameters. The idea of AI is that instead of having $\\Phi_i$ for each datapoint, we have a single $\\Phi$ that specifies the parameters of a Neural Networks that, given $x_i$, outputs us $\\Phi_i$. So we get $q_{\\Phi_i}(z \\vert x_i) = \\mathcal{N}(z \\vert \\mu_{\\Phi}(x_i), \\Sigma_{\\Phi}(x_i))$ instead.\n",
    "\n",
    "JAX will provide us with the necessary autodiff functionality; we use Adam for gradient-based optimization of $\\theta$ and $\\Phi$."
   ]
  },
  {
   "cell_type": "markdown",
   "metadata": {
    "id": "nDUMG4VJU4x5"
   },
   "source": [
    "## Part 1: Preparations\n",
    "\n",
    "Let us import the necessary packages first."
   ]
  },
  {
   "cell_type": "code",
   "execution_count": 1,
   "metadata": {
    "colab": {
     "base_uri": "https://localhost:8080/"
    },
    "id": "3sPg0ZsyQ4Oi",
    "outputId": "b48868cb-b635-48dc-d701-2260bf712ca0"
   },
   "outputs": [],
   "source": [
    "from jax import jit, grad, value_and_grad, lax, vmap, random\n",
    "import jax.numpy as np\n",
    "import jax.random\n",
    "from jax.scipy.special import logsumexp\n",
    "from jax.scipy.stats import norm\n",
    "from jax.tree_util import register_pytree_node\n",
    "\n",
    "from flax import linen as nn\n",
    "import optax\n",
    "\n",
    "import tensorflow_probability as tfp\n",
    "import tensorflow_probability.substrates.jax.distributions as dists\n",
    "\n",
    "#config.update(\"jax_debug_nans\", True)\n",
    "\n",
    "import matplotlib.pyplot as plt\n",
    "from tqdm.auto import trange\n",
    "from functools import partial\n",
    "from random import randint   # simple python rnd"
   ]
  },
  {
   "cell_type": "markdown",
   "metadata": {
    "id": "QXlBa-8oFn9V"
   },
   "source": [
    "## Part 2: Data\n",
    "First things first, get the data!\n",
    "\n",
    "Each datapoint in the [MNIST dataset](http://yann.lecun.com/exdb/mnist/) is a 28x28 grayscale image (i.e. pixels are values between 0 and 1) of a handwritten digit in $\\{0 \\dots 9\\}$, and a label indicating which number."
   ]
  },
  {
   "cell_type": "code",
   "execution_count": 2,
   "metadata": {
    "colab": {
     "base_uri": "https://localhost:8080/",
     "height": 178
    },
    "id": "_KvgdSxIXSP4",
    "outputId": "4eded38c-692c-4623-a996-2f964fd7d873"
   },
   "outputs": [
    {
     "data": {
      "image/png": "[encoded data removed]",
      "text/plain": [
       "<Figure size 640x480 with 1 Axes>"
      ]
     },
     "metadata": {},
     "output_type": "display_data"
    }
   ],
   "source": [
    "# Load MNIST data\n",
    "import os\n",
    "import gzip\n",
    "import struct\n",
    "import array\n",
    "import matplotlib.image\n",
    "from urllib.request import urlretrieve\n",
    "import tensorflow_datasets as tfds\n",
    "\n",
    "def download(url, filename):\n",
    "    if not os.path.exists('data'):\n",
    "        os.makedirs('data')\n",
    "    out_file = os.path.join('data', filename)\n",
    "    if not os.path.isfile(out_file):\n",
    "        urlretrieve(url, out_file)\n",
    "\n",
    "def mnist():\n",
    "    tfds_dataset, ds_info = tfds.load('mnist', split=['train', 'test'], shuffle_files=False, as_supervised=True, with_info=True)\n",
    "    train, test = tfds_dataset\n",
    "    train_images, train_labels = [], []\n",
    "    test_images, test_labels = [], []\n",
    "    for image, label in tfds.as_numpy(train):\n",
    "        train_images.append(image)\n",
    "        train_labels.append(label)\n",
    "    for image, label in tfds.as_numpy(test):\n",
    "        test_images.append(image)\n",
    "        test_labels.append(label)\n",
    "    return np.array(train_images), np.array(train_labels), np.array(test_images), np.array(test_labels)\n",
    "\n",
    "def load_mnist():\n",
    "    partial_flatten = lambda x: np.reshape(x, (x.shape[0], np.prod(np.array(x.shape[1:]))))\n",
    "    one_hot = lambda x, k: np.array(x[:, None] == np.arange(k)[None, :], dtype=int)\n",
    "    train_images, train_labels, test_images, test_labels = mnist()\n",
    "    train_images = (partial_flatten(train_images) / 255.0 > .5).astype(float)\n",
    "    test_images = (partial_flatten(test_images) / 255.0 > .5).astype(float)\n",
    "    train_labels = one_hot(train_labels, 10)\n",
    "    test_labels = one_hot(test_labels, 10)\n",
    "    N_data = train_images.shape[0]\n",
    "\n",
    "    return N_data, train_images, train_labels, test_images, test_labels\n",
    "\n",
    "N_data, train_images, train_labels, test_images, test_labels = load_mnist()\n",
    "\n",
    "mean_image = np.mean(train_images, 0)\n",
    "\n",
    "\n",
    "import numpy as onp   # original numpy\n",
    "def plot_images(images, ims_per_row=5, padding=5, digit_dimensions=(28, 28),\n",
    "                cmap=matplotlib.cm.binary, vmin=0., vmax=1.):\n",
    "    \"\"\"Images should be a (N_images x pixels) matrix.\"\"\"\n",
    "    fig = plt.figure(1)\n",
    "    fig.clf()\n",
    "    ax = fig.add_subplot(111)\n",
    "\n",
    "    N_images = images.shape[0]\n",
    "    N_rows = onp.int32(onp.ceil(float(N_images) / ims_per_row))\n",
    "    pad_value = vmin\n",
    "    concat_images = onp.full(((digit_dimensions[0] + padding) * N_rows + padding,\n",
    "                             (digit_dimensions[1] + padding) * ims_per_row + padding), pad_value)\n",
    "    for i in range(N_images):\n",
    "        cur_image = np.reshape(images[i, :], digit_dimensions)\n",
    "        row_ix = i // ims_per_row\n",
    "        col_ix = i % ims_per_row\n",
    "        row_start = padding + (padding + digit_dimensions[0]) * row_ix\n",
    "        col_start = padding + (padding + digit_dimensions[1]) * col_ix\n",
    "        concat_images[row_start: row_start + digit_dimensions[0],\n",
    "                      col_start: col_start + digit_dimensions[1]] = cur_image\n",
    "        cax = ax.matshow(concat_images, cmap=cmap, vmin=vmin, vmax=vmax)\n",
    "        plt.xticks(onp.array([]))\n",
    "        plt.yticks(onp.array([]))\n",
    "    \n",
    "    plt.plot()\n",
    "\n",
    "plot_images(train_images[:10, :])"
   ]
  },
  {
   "cell_type": "markdown",
   "metadata": {
    "id": "3Pa3AIjPMPfS"
   },
   "source": [
    "## Part 3: Implement the VAE\n",
    "Now that we have everything we need, we implement the Variational Autoencoder on binarized MNIST digits, as introduced by the paper [Auto-Encoding Variational Bayes](https://arxiv.org/pdf/1312.6114.pdf) by Kingma and Welling (2013). \n",
    "\n",
    "At first, some generic VAE funtions:"
   ]
  },
  {
   "cell_type": "code",
   "execution_count": 3,
   "metadata": {
    "id": "ChZZaRmqhkvu"
   },
   "outputs": [],
   "source": [
    "# Generic VAE functions.\n",
    "\n",
    "def log_prior(z): \n",
    "    return np.sum(norm.logpdf(z, 0.0, 1.0), axis=-1)\n",
    "\n",
    "def diag_gaussian_sample(rng, mean, log_std): \n",
    "  return mean + np.exp(log_std) * random.normal(rng, mean.shape) # single sample from a diagonal multivariate Gaussian\n",
    "\n",
    "def diag_gaussian_logpdf(x, mean, log_std):\n",
    "  return np.sum(vmap(norm.logpdf)(x, mean, np.exp(log_std))) # evaluate a single point on a diagonal multivariate Gaussian\n",
    "\n",
    "def elbo(  # Single-sample Monte Carlo estimate of the variational lower bound.\n",
    "    recognition_net,    # takes recognition_params and a datapoint, outputs mean and log_std of size latent_dim, i.e. log q(z|x)\n",
    "    log_joint,          # takes likelihood_params and a vector of size latent_dim and a datapoint, outputs unnormalized log joint, i.e. log p(x,z)\n",
    "    recognition_params, # Phi\n",
    "    model_params,       # theta\n",
    "    datapoint, rng):\n",
    "\n",
    "  q_params = recognition_net(recognition_params, datapoint)  # get the approximate posterior parameters for dp using amotized inference\n",
    "  mu, log_standarddev = q_params\n",
    "  sample = diag_gaussian_sample(rng, mean=mu, log_std=log_standarddev)  # sample from approximate posterior.\n",
    "  log_joint_value = log_joint(model_params, sample, datapoint) \n",
    "  log_post_value = diag_gaussian_logpdf(sample, mean=mu, log_std=log_standarddev) # Evaluates the density of log posterior q(z).\n",
    "  \n",
    "  # KL-divergence between two multidim. Gaussians\n",
    "  d_kl = 0.5*(np.sum(np.exp(log_standarddev)) + np.dot(mu, mu) - datapoint.shape[0] - np.sum(log_standarddev)) \n",
    "  elbo_hat = log_joint_value - d_kl \n",
    "  return elbo_hat\n",
    "\n",
    "def batch_elbo(recognition_net, log_joint, recognition_params, model_params, data, rng):   # batched version using JAX's vmap\n",
    "  batch_size = data.shape[0]\n",
    "  rngs = random.split(rng, batch_size)\n",
    "  vectorized_elbo = vmap(partial(elbo, recognition_net, log_joint,\n",
    "                                 recognition_params, model_params),\n",
    "                         in_axes=(0, 0))\n",
    "  return np.mean(vectorized_elbo(data, rngs)) # average ELBO estimate over a batch of samples\n"
   ]
  },
  {
   "cell_type": "code",
   "execution_count": 4,
   "metadata": {},
   "outputs": [
    {
     "data": {
      "text/plain": [
       "(784,)"
      ]
     },
     "execution_count": 4,
     "metadata": {},
     "output_type": "execute_result"
    }
   ],
   "source": [
    "mean_image.shape"
   ]
  },
  {
   "cell_type": "markdown",
   "metadata": {
    "id": "CuU3ftS4Fl-5"
   },
   "source": [
    "Here we set the dimension of the latent space to 2.\n",
    "A larger latent dimension would provide a more powerful model, but a dimension of two will make visualization and debugging easier.\n",
    "\n",
    "Given the latent representation $z$ for an image, the distribution over all 784 pixels in the image is given by a product of independent Bernoullis, whose means are given by the output of a neural network $f_\\theta(z)$:\n",
    "$$p(x|z, \\theta) = \\prod_{d=1}^{784} \\operatorname{Ber}(x_d|f_\\theta(z)_d)$$\n",
    "The neural network $f_\\theta$ is called the decoder, and its parameters $\\theta$ will be optimized to fit the data.\n",
    "\n",
    "After each hundert iterations, we report the Evidence Lower Bound. "
   ]
  },
  {
   "cell_type": "code",
   "execution_count": 5,
   "metadata": {
    "colab": {
     "base_uri": "https://localhost:8080/",
     "height": 1000,
     "referenced_widgets": [
      "2876e5a2d8dd4959807120bf257b84f8",
      "a304966b0aa4488f9af244f5626cb670",
      "9f200728fcc64e9da75c0961fb096573",
      "ae80a7b35379471fb0d56a8b40bb5a67",
      "3343bbd1337249848ff540f97088c24c",
      "871dbe11ddbc450aa86da27a28cd8f34",
      "7e8336f356414904946121c962ac8848",
      "87eba56861944e46b0506d0fef1a35c3",
      "b93c13cbeb714c2285fb709110b4b71e",
      "76792e0489824c1997e87e3054371743",
      "d00ff2ceb1bb4ea1bc9f4b90af047ee2"
     ]
    },
    "id": "enYQZKWebwFy",
    "outputId": "e3f1912f-c8de-416d-e21d-5a4b065ccb55"
   },
   "outputs": [
    {
     "name": "stdout",
     "output_type": "stream",
     "text": [
      "Optimizing variational parameters...\n"
     ]
    },
    {
     "data": {
      "application/vnd.jupyter.widget-view+json": {
       "model_id": "471da90b2b9f4e5c8a63f95e59dfe36b",
       "version_major": 2,
       "version_minor": 0
      },
      "text/plain": [
       "  0%|          | 0/15000 [00:00<?, ?it/s]"
      ]
     },
     "metadata": {},
     "output_type": "display_data"
    },
    {
     "name": "stdout",
     "output_type": "stream",
     "text": [
      "Iteration 0: ELBO -178.14634704589844\n",
      "Iteration 100: ELBO 211.26724243164062\n",
      "Iteration 200: ELBO 245.07562255859375\n",
      "Iteration 300: ELBO 264.1372985839844\n",
      "Iteration 400: ELBO 277.509033203125\n",
      "Iteration 500: ELBO 290.9166259765625\n",
      "Iteration 600: ELBO 302.86859130859375\n",
      "Iteration 700: ELBO 311.9376220703125\n",
      "Iteration 800: ELBO 319.6977844238281\n",
      "Iteration 900: ELBO 326.975830078125\n",
      "Iteration 1000: ELBO 330.08172607421875\n",
      "Iteration 1100: ELBO 336.38739013671875\n",
      "Iteration 1200: ELBO 340.10791015625\n",
      "Iteration 1300: ELBO 342.41668701171875\n",
      "Iteration 1400: ELBO 345.72265625\n",
      "Iteration 1500: ELBO 348.23101806640625\n",
      "Iteration 1600: ELBO 349.95928955078125\n",
      "Iteration 1700: ELBO 351.856201171875\n",
      "Iteration 1800: ELBO 353.23565673828125\n",
      "Iteration 1900: ELBO 354.9774169921875\n",
      "Iteration 2000: ELBO 356.6197509765625\n",
      "Iteration 2100: ELBO 358.53076171875\n",
      "Iteration 2200: ELBO 360.600341796875\n",
      "Iteration 2300: ELBO 361.56524658203125\n",
      "Iteration 2400: ELBO 362.99749755859375\n",
      "Iteration 2500: ELBO 364.3778991699219\n",
      "Iteration 2600: ELBO 364.2852478027344\n",
      "Iteration 2700: ELBO 365.73583984375\n",
      "Iteration 2800: ELBO 366.71649169921875\n",
      "Iteration 2900: ELBO 367.9985656738281\n",
      "Iteration 3000: ELBO 368.2115173339844\n",
      "Iteration 3100: ELBO 368.8991394042969\n",
      "Iteration 3200: ELBO 369.4453125\n",
      "Iteration 3300: ELBO 370.57073974609375\n",
      "Iteration 3400: ELBO 370.84136962890625\n",
      "Iteration 3500: ELBO 369.51470947265625\n",
      "Iteration 3600: ELBO 372.4244384765625\n",
      "Iteration 3700: ELBO 373.1053466796875\n",
      "Iteration 3800: ELBO 373.62872314453125\n",
      "Iteration 3900: ELBO 374.221923828125\n",
      "Iteration 4000: ELBO 372.1610107421875\n",
      "Iteration 4100: ELBO 375.0401306152344\n",
      "Iteration 4200: ELBO 375.188232421875\n",
      "Iteration 4300: ELBO 375.5076904296875\n",
      "Iteration 4400: ELBO 375.94976806640625\n",
      "Iteration 4500: ELBO 376.4222412109375\n",
      "Iteration 4600: ELBO 376.7424621582031\n",
      "Iteration 4700: ELBO 376.8155822753906\n",
      "Iteration 4800: ELBO 377.3948669433594\n",
      "Iteration 4900: ELBO 377.39007568359375\n",
      "Iteration 5000: ELBO 365.69525146484375\n",
      "Iteration 5100: ELBO 378.02716064453125\n",
      "Iteration 5200: ELBO 377.941162109375\n",
      "Iteration 5300: ELBO 378.29534912109375\n",
      "Iteration 5400: ELBO 378.6512451171875\n",
      "Iteration 5500: ELBO 378.59686279296875\n",
      "Iteration 5600: ELBO 377.8227233886719\n",
      "Iteration 5700: ELBO 378.96124267578125\n",
      "Iteration 5800: ELBO 379.20263671875\n",
      "Iteration 5900: ELBO 378.8033447265625\n",
      "Iteration 6000: ELBO 379.4700622558594\n",
      "Iteration 6100: ELBO 379.57916259765625\n",
      "Iteration 6200: ELBO 379.6693115234375\n",
      "Iteration 6300: ELBO 379.93145751953125\n",
      "Iteration 6400: ELBO 379.98931884765625\n",
      "Iteration 6500: ELBO 378.0542297363281\n",
      "Iteration 6600: ELBO 379.35906982421875\n",
      "Iteration 6700: ELBO 379.738037109375\n",
      "Iteration 6800: ELBO 380.1357727050781\n",
      "Iteration 6900: ELBO 380.4007568359375\n",
      "Iteration 7000: ELBO 380.5635070800781\n",
      "Iteration 7100: ELBO 380.8324890136719\n",
      "Iteration 7200: ELBO 380.47552490234375\n",
      "Iteration 7300: ELBO 380.4998779296875\n",
      "Iteration 7400: ELBO 380.84442138671875\n",
      "Iteration 7500: ELBO 380.9447021484375\n",
      "Iteration 7600: ELBO 380.67144775390625\n",
      "Iteration 7700: ELBO 381.0355224609375\n",
      "Iteration 7800: ELBO 380.609130859375\n",
      "Iteration 7900: ELBO 381.1029968261719\n",
      "Iteration 8000: ELBO 381.1947937011719\n",
      "Iteration 8100: ELBO 381.2396240234375\n",
      "Iteration 8200: ELBO 381.2828369140625\n",
      "Iteration 8300: ELBO 381.46807861328125\n",
      "Iteration 8400: ELBO 381.45941162109375\n",
      "Iteration 8500: ELBO 381.115234375\n",
      "Iteration 8600: ELBO 381.6628112792969\n",
      "Iteration 8700: ELBO 381.5495300292969\n",
      "Iteration 8800: ELBO 381.8509826660156\n",
      "Iteration 8900: ELBO 381.6017150878906\n",
      "Iteration 9000: ELBO 382.09234619140625\n",
      "Iteration 9100: ELBO 381.8567199707031\n",
      "Iteration 9200: ELBO 382.02081298828125\n",
      "Iteration 9300: ELBO 381.6946716308594\n",
      "Iteration 9400: ELBO 382.1900634765625\n",
      "Iteration 9500: ELBO 382.27899169921875\n",
      "Iteration 9600: ELBO 382.3254089355469\n",
      "Iteration 9700: ELBO 382.2586669921875\n",
      "Iteration 9800: ELBO 382.300048828125\n",
      "Iteration 9900: ELBO 382.32354736328125\n",
      "Iteration 10000: ELBO 382.3899841308594\n",
      "Iteration 10100: ELBO 382.01715087890625\n",
      "Iteration 10200: ELBO 382.50665283203125\n",
      "Iteration 10300: ELBO 382.4356994628906\n",
      "Iteration 10400: ELBO 382.4991455078125\n",
      "Iteration 10500: ELBO 382.35906982421875\n",
      "Iteration 10600: ELBO 382.60986328125\n",
      "Iteration 10700: ELBO 382.3307189941406\n",
      "Iteration 10800: ELBO 382.59576416015625\n",
      "Iteration 10900: ELBO 382.43603515625\n",
      "Iteration 11000: ELBO 382.60198974609375\n",
      "Iteration 11100: ELBO 382.6199951171875\n",
      "Iteration 11200: ELBO 381.88873291015625\n",
      "Iteration 11300: ELBO 356.75396728515625\n",
      "Iteration 11400: ELBO 382.5692138671875\n",
      "Iteration 11500: ELBO 382.81884765625\n",
      "Iteration 11600: ELBO 382.96240234375\n",
      "Iteration 11700: ELBO 382.81591796875\n",
      "Iteration 11800: ELBO 382.94879150390625\n",
      "Iteration 11900: ELBO 382.79571533203125\n",
      "Iteration 12000: ELBO 383.031494140625\n",
      "Iteration 12100: ELBO 382.81317138671875\n",
      "Iteration 12200: ELBO 383.1828918457031\n",
      "Iteration 12300: ELBO 383.14453125\n",
      "Iteration 12400: ELBO 382.98236083984375\n",
      "Iteration 12500: ELBO 382.47271728515625\n",
      "Iteration 12600: ELBO 383.05023193359375\n",
      "Iteration 12700: ELBO 380.58197021484375\n",
      "Iteration 12800: ELBO 382.93017578125\n",
      "Iteration 12900: ELBO 382.783935546875\n",
      "Iteration 13000: ELBO 382.9591979980469\n",
      "Iteration 13100: ELBO 383.1475830078125\n",
      "Iteration 13200: ELBO 383.076904296875\n",
      "Iteration 13300: ELBO 383.2458190917969\n",
      "Iteration 13400: ELBO 382.3817138671875\n",
      "Iteration 13500: ELBO 383.08349609375\n",
      "Iteration 13600: ELBO 383.3240051269531\n",
      "Iteration 13700: ELBO 383.2181396484375\n",
      "Iteration 13800: ELBO 383.322509765625\n",
      "Iteration 13900: ELBO 383.435791015625\n",
      "Iteration 14000: ELBO 382.980712890625\n",
      "Iteration 14100: ELBO 383.3082275390625\n",
      "Iteration 14200: ELBO 383.41058349609375\n",
      "Iteration 14300: ELBO 383.11138916015625\n",
      "Iteration 14400: ELBO 383.5126953125\n",
      "Iteration 14500: ELBO 383.3729248046875\n",
      "Iteration 14600: ELBO 383.4330139160156\n",
      "Iteration 14700: ELBO 302.92950439453125\n",
      "Iteration 14800: ELBO 383.2915954589844\n",
      "Iteration 14900: ELBO 383.3492126464844\n"
     ]
    }
   ],
   "source": [
    "# Define a VAE for the MNIST dataset\n",
    "import jax.numpy as jnp\n",
    "from jax.scipy.integrate import trapezoid\n",
    "\n",
    "data_dimension = 28*28\n",
    "latent_dimension = 2\n",
    "key = random.PRNGKey(0)\n",
    "\n",
    "class RecognitionNet(nn.Module):\n",
    "  @nn.compact\n",
    "  def __call__(self, x):\n",
    "    x = nn.Dense(features=150)(x)\n",
    "    x = nn.relu(x)\n",
    "    x = nn.Dense(features=100)(x)\n",
    "    x = nn.relu(x)\n",
    "    mean = nn.Dense(features=latent_dimension)(x)   # Output mean of q(z)\n",
    "    log_std = nn.Dense(features=latent_dimension)(x)   # Output log_std of q(z)\n",
    "    return mean, log_std\n",
    "\n",
    "class Decoder(nn.Module):\n",
    "  @nn.compact\n",
    "  def __call__(self, x):\n",
    "    x = nn.Dense(features=150)(x)\n",
    "    x = nn.relu(x)\n",
    "    x = nn.Dense(features=100)(x)\n",
    "    x = nn.relu(x)\n",
    "    x = nn.Dense(features=100)(x)   # Output logit of Ber(x|z)\n",
    "    x = nn.relu(x)\n",
    "    x = nn.Dense(features=data_dimension*latent_dimension)(x)   # Output logit of Ber(x|z)\n",
    "    return x.reshape((data_dimension, latent_dimension))\n",
    "\n",
    "x_rand = random.normal(key, (data_dimension,))\n",
    "z_rand = random.normal(key, (latent_dimension,))\n",
    "init_recognition_params = RecognitionNet().init(key, x_rand)\n",
    "init_decoder_params = Decoder().init(key, z_rand)\n",
    "\n",
    "@jit\n",
    "def nn_dynamics_general(time, params, x0,x):\n",
    "  c = x0*(1-time) + x * time\n",
    "  c_prime = x - x0\n",
    "  jacobian = Decoder().apply(params,c)\n",
    "  result = jacobian @ c_prime\n",
    "  return result\n",
    "\n",
    "@jit\n",
    "def odenet(params, input):\n",
    "  y0 = mean_image\n",
    "  steps = 2500\n",
    "  start_and_end_times = jnp.linspace(0.0, 1.0, steps)\n",
    "  nn_dynamics = partial(nn_dynamics_general, x0=jnp.array([0.]*latent_dimension), x=input, params=params)\n",
    "  ys = vmap(nn_dynamics)(start_and_end_times)\n",
    "  result = trapezoid(ys, dx=1/steps, axis=0)\n",
    "  out = y0+result\n",
    "  return out\n",
    "\n",
    "\n",
    "# Set up log likelihood function.\n",
    "def bernoulli_logpdf(logits, x):\n",
    "  return -np.sum(np.logaddexp(0., np.where(x, -1., 1.) * logits))   # Bernoulli log pdf of data x given logits\n",
    "\n",
    "def log_likelihood(decoder_params, latent, datapoint):\n",
    "  logits = odenet(decoder_params, latent)\n",
    "  return bernoulli_logpdf(logits, datapoint)\n",
    "\n",
    "def log_joint(decoder_params, latent, datapoint):\n",
    "  return log_likelihood(decoder_params, latent, datapoint) + log_prior(latent)\n",
    "\n",
    "# Run optimization\n",
    "n_iters = 15000\n",
    "minibatch_size = 64\n",
    "optimizer = optax.adam(learning_rate=1e-3)\n",
    "params = (init_recognition_params, init_decoder_params)\n",
    "opt_state = optimizer.init(params)\n",
    "\n",
    "\n",
    "\n",
    "@jax.jit\n",
    "def objective(params, t):  # The loss function to be minimized.  \n",
    "  rng = random.PRNGKey(t)\n",
    "  minibatch_ixs = random.choice(key, train_images.shape[0], (minibatch_size,))\n",
    "  minibatch =  train_images[minibatch_ixs, :]\n",
    "  recognition_params, decoder_params = params \n",
    "  return -batch_elbo(RecognitionNet().apply, log_joint, recognition_params, decoder_params, minibatch, rng) \n",
    "  \n",
    "def callback(params, t):\n",
    "  if t % 100 == 0:\n",
    "    print(f\"Iteration {t}: ELBO {-objective(params, t)}\")\n",
    "  \n",
    "@jax.jit\n",
    "def step(params, opt_state, rnd):   \n",
    "    gradient = grad(objective)(params, rnd)  # rnd used for random key in objective\n",
    "    updates, opt_state = optimizer.update(gradient, opt_state)\n",
    "    params = optax.apply_updates(params, updates)\n",
    "    return params, opt_state\n",
    "\n",
    "print(\"Optimizing variational parameters...\")\n",
    "for t in trange(0, n_iters):\n",
    "    params, opt_state = step(params, opt_state, t)\n",
    "    callback(params, t)\n",
    "\n",
    "recognition_params, decoder_params = params"
   ]
  },
  {
   "cell_type": "markdown",
   "metadata": {
    "id": "_4D_ldpaGldW"
   },
   "source": [
    "## Part 4: Investigate the Model\n",
    "\n",
    "Great, model implementation and training has been completed! In what follows, we investigate our model by visualizing the distribution over data given by the generative model, sampling from it, and interpolating between digits.\n",
    "\n",
    "One way to understand the meaning of latent representations is to see which parts of the latent space correspond to which kinds of data. Here we'll produce a scatter plot in the latent space, where each point in the plot represents a different image in the training set.\n",
    "\n",
    "What we do here:\n",
    "\n",
    "1.   Encode each image in the training set.\n",
    "2.   Take the 2D mean vector of each encoding $q_\\phi(z|x)$.\n",
    "3.   Plot these mean vectors in the 2D latent space with a scatterplot.\n",
    "4.   Colour each point according to the class label (0 to 9).\n",
    "\n",
    "\n",
    "Hopefully our latent space will group images of different classes, even though we never provided class labels to the model. The latent structure has been learned by the model!\n",
    "\n",
    "\n",
    "\n"
   ]
  },
  {
   "cell_type": "code",
   "execution_count": 6,
   "metadata": {
    "colab": {
     "base_uri": "https://localhost:8080/",
     "height": 283
    },
    "id": "MReco_Jje8LE",
    "outputId": "1be2bd99-2007-47ca-e5a8-08cab0209f16"
   },
   "outputs": [
    {
     "name": "stderr",
     "output_type": "stream",
     "text": [
      "E1213 20:11:39.627804  456843 hlo_lexer.cc:443] Failed to parse int literal: 751131872138892745728275\n"
     ]
    },
    {
     "data": {
      "text/plain": [
       "(np.float64(-2.6884090483188627),\n",
       " np.float64(1.9230674088001252),\n",
       " np.float64(-2.4528192698955538),\n",
       " np.float64(1.5519535958766937))"
      ]
     },
     "execution_count": 6,
     "metadata": {},
     "output_type": "execute_result"
    },
    {
     "data": {
      "image/png": "[encoded data removed]",
      "text/plain": [
       "<Figure size 640x480 with 1 Axes>"
      ]
     },
     "metadata": {},
     "output_type": "display_data"
    }
   ],
   "source": [
    "for k in range(10):\n",
    "  cur_data = train_images[train_labels[:, k] == True, :]\n",
    "  latent_mean, _ = RecognitionNet().apply(recognition_params, cur_data)\n",
    "  plt.scatter(latent_mean[:, 0], latent_mean[:, 1], s=2)\n",
    "\n",
    "plt.axis(\"equal\")"
   ]
  },
  {
   "cell_type": "markdown",
   "metadata": {
    "id": "Dk0GjGNOHEXc"
   },
   "source": [
    "But we can do more than that. A VAE is a generative model. We will generate some images by sampling from the prior in the latent space and decoding them to obtain artificial MNIST images."
   ]
  },
  {
   "cell_type": "code",
   "execution_count": 7,
   "metadata": {
    "colab": {
     "base_uri": "https://localhost:8080/",
     "height": 255
    },
    "id": "mYkNjM1Ufq9s",
    "outputId": "6d863edb-77df-4a2e-c62f-26f9b3d8dde5"
   },
   "outputs": [
    {
     "data": {
      "image/png": "[encoded data removed]",
      "text/plain": [
       "<Figure size 640x480 with 1 Axes>"
      ]
     },
     "metadata": {},
     "output_type": "display_data"
    }
   ],
   "source": [
    "# Sample data from the trained generative model to see if it roughly matches the data.\n",
    "\n",
    "def sigmoid(x):\n",
    "  return 0.5 * (np.tanh(x) + 1.0)\n",
    "\n",
    "recognition_params, decoder_params = params\n",
    "n_samples = 25\n",
    "sampled_zs = jax.random.normal(key, shape=(n_samples,latent_dimension)) # sample from prior on z.\n",
    "vdecoder = vmap(odenet, in_axes=(None, 0))\n",
    "bernoulli_means = sigmoid(vdecoder(decoder_params, sampled_zs)) # call decoder, and map logits to probabilities.\n",
    "plot_images(bernoulli_means)"
   ]
  },
  {
   "cell_type": "markdown",
   "metadata": {
    "id": "T_TLbol-Yrb2"
   },
   "source": [
    "Another interesting way to examine a continuous latent variable model is to interpolate between the latent representations of two points. Here we will encode 3 pairs of data points with different classes. Then we will linearly interpolate between the mean vectors of their latent representation. We will plot the generative distributions along the linear interpolation.\n",
    "\n",
    "\n",
    "1.   We write a function which takes two points $z_a$ and $z_b$, and a value $\\alpha \\in [0,1]$, and outputs the linear interpolation $z_\\alpha = \\alpha z_a + (1-\\alpha)z_b$.\n",
    "2.  Then we sample 3 pairs of images, each having a different class.\n",
    "3.  Afterwards we encode the images in each pair, take the mean vectors and linearly interpolate them\n",
    "4.  At 10 equally-space points along the interpolation, we show the Bernoulli means $p(x|z_\\alpha)$."
   ]
  },
  {
   "cell_type": "code",
   "execution_count": 8,
   "metadata": {
    "id": "1Wt6FylTfygq"
   },
   "outputs": [],
   "source": [
    "def plot_interp(ix1, ix2):\n",
    "  left_z = RecognitionNet().apply(recognition_params, train_images[ix1, :])[0]\n",
    "  right_z = RecognitionNet().apply(recognition_params, train_images[ix2, :])[0]\n",
    "  interp_weights = list(np.linspace(0.0, 1.0, 10))\n",
    "  interp_zs = np.array([weight*left_z + (1.0-weight)*right_z for weight in interp_weights])  # Linearly interpolate between left_z and right_z\n",
    "  bernoulli_means = sigmoid(vmap(odenet, in_axes=(None,0))(decoder_params, interp_zs))\n",
    "  plot_images(bernoulli_means)"
   ]
  },
  {
   "cell_type": "code",
   "execution_count": 9,
   "metadata": {
    "colab": {
     "base_uri": "https://localhost:8080/",
     "height": 178
    },
    "id": "VwbJ00RLQ1aB",
    "outputId": "c439a02a-b50b-46f1-9176-d9b49bbefc37"
   },
   "outputs": [
    {
     "data": {
      "image/png": "[encoded data removed]",
      "text/plain": [
       "<Figure size 640x480 with 1 Axes>"
      ]
     },
     "metadata": {},
     "output_type": "display_data"
    }
   ],
   "source": [
    "plot_interp(3, 11)"
   ]
  },
  {
   "cell_type": "code",
   "execution_count": 10,
   "metadata": {
    "colab": {
     "base_uri": "https://localhost:8080/",
     "height": 178
    },
    "id": "i7IrTnLbQ3oD",
    "outputId": "e1392523-9ce5-44f6-ac4c-e472b3e36453"
   },
   "outputs": [
    {
     "data": {
      "image/png": "[encoded data removed]",
      "text/plain": [
       "<Figure size 640x480 with 1 Axes>"
      ]
     },
     "metadata": {},
     "output_type": "display_data"
    }
   ],
   "source": [
    "plot_interp(11, 22)"
   ]
  },
  {
   "cell_type": "code",
   "execution_count": 11,
   "metadata": {
    "colab": {
     "base_uri": "https://localhost:8080/",
     "height": 178
    },
    "id": "m2R_U7-9Q46R",
    "outputId": "f4c8f3cf-38fa-4b37-f169-6c781f71e18c"
   },
   "outputs": [
    {
     "data": {
      "image/png": "[encoded data removed]",
      "text/plain": [
       "<Figure size 640x480 with 1 Axes>"
      ]
     },
     "metadata": {},
     "output_type": "display_data"
    }
   ],
   "source": [
    "plot_interp(32, 334)"
   ]
  },
  {
   "cell_type": "code",
   "execution_count": 12,
   "metadata": {},
   "outputs": [
    {
     "data": {
      "image/png": "[encoded data removed]",
      "text/plain": [
       "<Figure size 640x480 with 1 Axes>"
      ]
     },
     "metadata": {},
     "output_type": "display_data"
    }
   ],
   "source": [
    "plot_interp(1, 2)"
   ]
  },
  {
   "cell_type": "code",
   "execution_count": 13,
   "metadata": {},
   "outputs": [
    {
     "data": {
      "image/png": "[encoded data removed]",
      "text/plain": [
       "<Figure size 640x480 with 1 Axes>"
      ]
     },
     "metadata": {},
     "output_type": "display_data"
    }
   ],
   "source": [
    "plot_interp(10, 12)"
   ]
  },
  {
   "cell_type": "code",
   "execution_count": null,
   "metadata": {},
   "outputs": [],
   "source": []
  }
 ],
 "metadata": {
  "accelerator": "GPU",
  "colab": {
   "collapsed_sections": [],
   "provenance": [],
   "toc_visible": true
  },
  "kernelspec": {
   "display_name": "Python 3 (ipykernel)",
   "language": "python",
   "name": "python3"
  },
  "language_info": {
   "codemirror_mode": {
    "name": "ipython",
    "version": 3
   },
   "file_extension": ".py",
   "mimetype": "text/x-python",
   "name": "python",
   "nbconvert_exporter": "python",
   "pygments_lexer": "ipython3",
   "version": "3.12.7"
  },
  "widgets": {
   "application/vnd.jupyter.widget-state+json": {
    "1b80fd5d3ad24282a85435387a0c6b87": {
     "model_module": "@jupyter-widgets/base",
     "model_module_version": "1.2.0",
     "model_name": "LayoutModel",
     "state": {
      "_model_module": "@jupyter-widgets/base",
      "_model_module_version": "1.2.0",
      "_model_name": "LayoutModel",
      "_view_count": null,
      "_view_module": "@jupyter-widgets/base",
      "_view_module_version": "1.2.0",
      "_view_name": "LayoutView",
      "align_content": null,
      "align_items": null,
      "align_self": null,
      "border": null,
      "bottom": null,
      "display": null,
      "flex": null,
      "flex_flow": null,
      "grid_area": null,
      "grid_auto_columns": null,
      "grid_auto_flow": null,
      "grid_auto_rows": null,
      "grid_column": null,
      "grid_gap": null,
      "grid_row": null,
      "grid_template_areas": null,
      "grid_template_columns": null,
      "grid_template_rows": null,
      "height": null,
      "justify_content": null,
      "justify_items": null,
      "left": null,
      "margin": null,
      "max_height": null,
      "max_width": null,
      "min_height": null,
      "min_width": null,
      "object_fit": null,
      "object_position": null,
      "order": null,
      "overflow": null,
      "overflow_x": null,
      "overflow_y": null,
      "padding": null,
      "right": null,
      "top": null,
      "visibility": null,
      "width": null
     }
    },
    "1caf48158d274ed5b69091b6996996de": {
     "model_module": "@jupyter-widgets/base",
     "model_module_version": "1.2.0",
     "model_name": "LayoutModel",
     "state": {
      "_model_module": "@jupyter-widgets/base",
      "_model_module_version": "1.2.0",
      "_model_name": "LayoutModel",
      "_view_count": null,
      "_view_module": "@jupyter-widgets/base",
      "_view_module_version": "1.2.0",
      "_view_name": "LayoutView",
      "align_content": null,
      "align_items": null,
      "align_self": null,
      "border": null,
      "bottom": null,
      "display": null,
      "flex": null,
      "flex_flow": null,
      "grid_area": null,
      "grid_auto_columns": null,
      "grid_auto_flow": null,
      "grid_auto_rows": null,
      "grid_column": null,
      "grid_gap": null,
      "grid_row": null,
      "grid_template_areas": null,
      "grid_template_columns": null,
      "grid_template_rows": null,
      "height": null,
      "justify_content": null,
      "justify_items": null,
      "left": null,
      "margin": null,
      "max_height": null,
      "max_width": null,
      "min_height": null,
      "min_width": null,
      "object_fit": null,
      "object_position": null,
      "order": null,
      "overflow": null,
      "overflow_x": null,
      "overflow_y": null,
      "padding": null,
      "right": null,
      "top": null,
      "visibility": null,
      "width": null
     }
    },
    "27a7de66890c4f74a02329bfc5631118": {
     "model_module": "@jupyter-widgets/controls",
     "model_module_version": "1.5.0",
     "model_name": "HBoxModel",
     "state": {
      "_dom_classes": [],
      "_model_module": "@jupyter-widgets/controls",
      "_model_module_version": "1.5.0",
      "_model_name": "HBoxModel",
      "_view_count": null,
      "_view_module": "@jupyter-widgets/controls",
      "_view_module_version": "1.5.0",
      "_view_name": "HBoxView",
      "box_style": "",
      "children": [
       "IPY_MODEL_d2a70818fbc8430781596cd7fa3aab91",
       "IPY_MODEL_e24f9c913d6f4390aa7f74e2ee356535",
       "IPY_MODEL_9eb3b9fd1a1641cabae75d63920fbbd3"
      ],
      "layout": "IPY_MODEL_7a774c8b8ed242babd4fc248aa5060bf"
     }
    },
    "2876e5a2d8dd4959807120bf257b84f8": {
     "model_module": "@jupyter-widgets/controls",
     "model_module_version": "1.5.0",
     "model_name": "HBoxModel",
     "state": {
      "_dom_classes": [],
      "_model_module": "@jupyter-widgets/controls",
      "_model_module_version": "1.5.0",
      "_model_name": "HBoxModel",
      "_view_count": null,
      "_view_module": "@jupyter-widgets/controls",
      "_view_module_version": "1.5.0",
      "_view_name": "HBoxView",
      "box_style": "",
      "children": [
       "IPY_MODEL_a304966b0aa4488f9af244f5626cb670",
       "IPY_MODEL_9f200728fcc64e9da75c0961fb096573",
       "IPY_MODEL_ae80a7b35379471fb0d56a8b40bb5a67"
      ],
      "layout": "IPY_MODEL_3343bbd1337249848ff540f97088c24c"
     }
    },
    "3343bbd1337249848ff540f97088c24c": {
     "model_module": "@jupyter-widgets/base",
     "model_module_version": "1.2.0",
     "model_name": "LayoutModel",
     "state": {
      "_model_module": "@jupyter-widgets/base",
      "_model_module_version": "1.2.0",
      "_model_name": "LayoutModel",
      "_view_count": null,
      "_view_module": "@jupyter-widgets/base",
      "_view_module_version": "1.2.0",
      "_view_name": "LayoutView",
      "align_content": null,
      "align_items": null,
      "align_self": null,
      "border": null,
      "bottom": null,
      "display": null,
      "flex": null,
      "flex_flow": null,
      "grid_area": null,
      "grid_auto_columns": null,
      "grid_auto_flow": null,
      "grid_auto_rows": null,
      "grid_column": null,
      "grid_gap": null,
      "grid_row": null,
      "grid_template_areas": null,
      "grid_template_columns": null,
      "grid_template_rows": null,
      "height": null,
      "justify_content": null,
      "justify_items": null,
      "left": null,
      "margin": null,
      "max_height": null,
      "max_width": null,
      "min_height": null,
      "min_width": null,
      "object_fit": null,
      "object_position": null,
      "order": null,
      "overflow": null,
      "overflow_x": null,
      "overflow_y": null,
      "padding": null,
      "right": null,
      "top": null,
      "visibility": null,
      "width": null
     }
    },
    "76792e0489824c1997e87e3054371743": {
     "model_module": "@jupyter-widgets/base",
     "model_module_version": "1.2.0",
     "model_name": "LayoutModel",
     "state": {
      "_model_module": "@jupyter-widgets/base",
      "_model_module_version": "1.2.0",
      "_model_name": "LayoutModel",
      "_view_count": null,
      "_view_module": "@jupyter-widgets/base",
      "_view_module_version": "1.2.0",
      "_view_name": "LayoutView",
      "align_content": null,
      "align_items": null,
      "align_self": null,
      "border": null,
      "bottom": null,
      "display": null,
      "flex": null,
      "flex_flow": null,
      "grid_area": null,
      "grid_auto_columns": null,
      "grid_auto_flow": null,
      "grid_auto_rows": null,
      "grid_column": null,
      "grid_gap": null,
      "grid_row": null,
      "grid_template_areas": null,
      "grid_template_columns": null,
      "grid_template_rows": null,
      "height": null,
      "justify_content": null,
      "justify_items": null,
      "left": null,
      "margin": null,
      "max_height": null,
      "max_width": null,
      "min_height": null,
      "min_width": null,
      "object_fit": null,
      "object_position": null,
      "order": null,
      "overflow": null,
      "overflow_x": null,
      "overflow_y": null,
      "padding": null,
      "right": null,
      "top": null,
      "visibility": null,
      "width": null
     }
    },
    "7a774c8b8ed242babd4fc248aa5060bf": {
     "model_module": "@jupyter-widgets/base",
     "model_module_version": "1.2.0",
     "model_name": "LayoutModel",
     "state": {
      "_model_module": "@jupyter-widgets/base",
      "_model_module_version": "1.2.0",
      "_model_name": "LayoutModel",
      "_view_count": null,
      "_view_module": "@jupyter-widgets/base",
      "_view_module_version": "1.2.0",
      "_view_name": "LayoutView",
      "align_content": null,
      "align_items": null,
      "align_self": null,
      "border": null,
      "bottom": null,
      "display": null,
      "flex": null,
      "flex_flow": null,
      "grid_area": null,
      "grid_auto_columns": null,
      "grid_auto_flow": null,
      "grid_auto_rows": null,
      "grid_column": null,
      "grid_gap": null,
      "grid_row": null,
      "grid_template_areas": null,
      "grid_template_columns": null,
      "grid_template_rows": null,
      "height": null,
      "justify_content": null,
      "justify_items": null,
      "left": null,
      "margin": null,
      "max_height": null,
      "max_width": null,
      "min_height": null,
      "min_width": null,
      "object_fit": null,
      "object_position": null,
      "order": null,
      "overflow": null,
      "overflow_x": null,
      "overflow_y": null,
      "padding": null,
      "right": null,
      "top": null,
      "visibility": null,
      "width": null
     }
    },
    "7aa2a34234fa4338a656616286811a84": {
     "model_module": "@jupyter-widgets/controls",
     "model_module_version": "1.5.0",
     "model_name": "DescriptionStyleModel",
     "state": {
      "_model_module": "@jupyter-widgets/controls",
      "_model_module_version": "1.5.0",
      "_model_name": "DescriptionStyleModel",
      "_view_count": null,
      "_view_module": "@jupyter-widgets/base",
      "_view_module_version": "1.2.0",
      "_view_name": "StyleView",
      "description_width": ""
     }
    },
    "7e8336f356414904946121c962ac8848": {
     "model_module": "@jupyter-widgets/controls",
     "model_module_version": "1.5.0",
     "model_name": "DescriptionStyleModel",
     "state": {
      "_model_module": "@jupyter-widgets/controls",
      "_model_module_version": "1.5.0",
      "_model_name": "DescriptionStyleModel",
      "_view_count": null,
      "_view_module": "@jupyter-widgets/base",
      "_view_module_version": "1.2.0",
      "_view_name": "StyleView",
      "description_width": ""
     }
    },
    "842f5d7d221948d2ae2afdfff16a92fd": {
     "model_module": "@jupyter-widgets/base",
     "model_module_version": "1.2.0",
     "model_name": "LayoutModel",
     "state": {
      "_model_module": "@jupyter-widgets/base",
      "_model_module_version": "1.2.0",
      "_model_name": "LayoutModel",
      "_view_count": null,
      "_view_module": "@jupyter-widgets/base",
      "_view_module_version": "1.2.0",
      "_view_name": "LayoutView",
      "align_content": null,
      "align_items": null,
      "align_self": null,
      "border": null,
      "bottom": null,
      "display": null,
      "flex": null,
      "flex_flow": null,
      "grid_area": null,
      "grid_auto_columns": null,
      "grid_auto_flow": null,
      "grid_auto_rows": null,
      "grid_column": null,
      "grid_gap": null,
      "grid_row": null,
      "grid_template_areas": null,
      "grid_template_columns": null,
      "grid_template_rows": null,
      "height": null,
      "justify_content": null,
      "justify_items": null,
      "left": null,
      "margin": null,
      "max_height": null,
      "max_width": null,
      "min_height": null,
      "min_width": null,
      "object_fit": null,
      "object_position": null,
      "order": null,
      "overflow": null,
      "overflow_x": null,
      "overflow_y": null,
      "padding": null,
      "right": null,
      "top": null,
      "visibility": null,
      "width": null
     }
    },
    "866ba0a7f9d44ae8a445c9d74963be56": {
     "model_module": "@jupyter-widgets/controls",
     "model_module_version": "1.5.0",
     "model_name": "ProgressStyleModel",
     "state": {
      "_model_module": "@jupyter-widgets/controls",
      "_model_module_version": "1.5.0",
      "_model_name": "ProgressStyleModel",
      "_view_count": null,
      "_view_module": "@jupyter-widgets/base",
      "_view_module_version": "1.2.0",
      "_view_name": "StyleView",
      "bar_color": null,
      "description_width": ""
     }
    },
    "871dbe11ddbc450aa86da27a28cd8f34": {
     "model_module": "@jupyter-widgets/base",
     "model_module_version": "1.2.0",
     "model_name": "LayoutModel",
     "state": {
      "_model_module": "@jupyter-widgets/base",
      "_model_module_version": "1.2.0",
      "_model_name": "LayoutModel",
      "_view_count": null,
      "_view_module": "@jupyter-widgets/base",
      "_view_module_version": "1.2.0",
      "_view_name": "LayoutView",
      "align_content": null,
      "align_items": null,
      "align_self": null,
      "border": null,
      "bottom": null,
      "display": null,
      "flex": null,
      "flex_flow": null,
      "grid_area": null,
      "grid_auto_columns": null,
      "grid_auto_flow": null,
      "grid_auto_rows": null,
      "grid_column": null,
      "grid_gap": null,
      "grid_row": null,
      "grid_template_areas": null,
      "grid_template_columns": null,
      "grid_template_rows": null,
      "height": null,
      "justify_content": null,
      "justify_items": null,
      "left": null,
      "margin": null,
      "max_height": null,
      "max_width": null,
      "min_height": null,
      "min_width": null,
      "object_fit": null,
      "object_position": null,
      "order": null,
      "overflow": null,
      "overflow_x": null,
      "overflow_y": null,
      "padding": null,
      "right": null,
      "top": null,
      "visibility": null,
      "width": null
     }
    },
    "87eba56861944e46b0506d0fef1a35c3": {
     "model_module": "@jupyter-widgets/base",
     "model_module_version": "1.2.0",
     "model_name": "LayoutModel",
     "state": {
      "_model_module": "@jupyter-widgets/base",
      "_model_module_version": "1.2.0",
      "_model_name": "LayoutModel",
      "_view_count": null,
      "_view_module": "@jupyter-widgets/base",
      "_view_module_version": "1.2.0",
      "_view_name": "LayoutView",
      "align_content": null,
      "align_items": null,
      "align_self": null,
      "border": null,
      "bottom": null,
      "display": null,
      "flex": null,
      "flex_flow": null,
      "grid_area": null,
      "grid_auto_columns": null,
      "grid_auto_flow": null,
      "grid_auto_rows": null,
      "grid_column": null,
      "grid_gap": null,
      "grid_row": null,
      "grid_template_areas": null,
      "grid_template_columns": null,
      "grid_template_rows": null,
      "height": null,
      "justify_content": null,
      "justify_items": null,
      "left": null,
      "margin": null,
      "max_height": null,
      "max_width": null,
      "min_height": null,
      "min_width": null,
      "object_fit": null,
      "object_position": null,
      "order": null,
      "overflow": null,
      "overflow_x": null,
      "overflow_y": null,
      "padding": null,
      "right": null,
      "top": null,
      "visibility": null,
      "width": null
     }
    },
    "9eb3b9fd1a1641cabae75d63920fbbd3": {
     "model_module": "@jupyter-widgets/controls",
     "model_module_version": "1.5.0",
     "model_name": "HTMLModel",
     "state": {
      "_dom_classes": [],
      "_model_module": "@jupyter-widgets/controls",
      "_model_module_version": "1.5.0",
      "_model_name": "HTMLModel",
      "_view_count": null,
      "_view_module": "@jupyter-widgets/controls",
      "_view_module_version": "1.5.0",
      "_view_name": "HTMLView",
      "description": "",
      "description_tooltip": null,
      "layout": "IPY_MODEL_842f5d7d221948d2ae2afdfff16a92fd",
      "placeholder": "​",
      "style": "IPY_MODEL_d519a42a21ab435996535412b5e418fe",
      "value": " 200/200 [00:01&lt;00:00, 229.89it/s]"
     }
    },
    "9f200728fcc64e9da75c0961fb096573": {
     "model_module": "@jupyter-widgets/controls",
     "model_module_version": "1.5.0",
     "model_name": "FloatProgressModel",
     "state": {
      "_dom_classes": [],
      "_model_module": "@jupyter-widgets/controls",
      "_model_module_version": "1.5.0",
      "_model_name": "FloatProgressModel",
      "_view_count": null,
      "_view_module": "@jupyter-widgets/controls",
      "_view_module_version": "1.5.0",
      "_view_name": "ProgressView",
      "bar_style": "success",
      "description": "",
      "description_tooltip": null,
      "layout": "IPY_MODEL_87eba56861944e46b0506d0fef1a35c3",
      "max": 6000,
      "min": 0,
      "orientation": "horizontal",
      "style": "IPY_MODEL_b93c13cbeb714c2285fb709110b4b71e",
      "value": 6000
     }
    },
    "a304966b0aa4488f9af244f5626cb670": {
     "model_module": "@jupyter-widgets/controls",
     "model_module_version": "1.5.0",
     "model_name": "HTMLModel",
     "state": {
      "_dom_classes": [],
      "_model_module": "@jupyter-widgets/controls",
      "_model_module_version": "1.5.0",
      "_model_name": "HTMLModel",
      "_view_count": null,
      "_view_module": "@jupyter-widgets/controls",
      "_view_module_version": "1.5.0",
      "_view_name": "HTMLView",
      "description": "",
      "description_tooltip": null,
      "layout": "IPY_MODEL_871dbe11ddbc450aa86da27a28cd8f34",
      "placeholder": "​",
      "style": "IPY_MODEL_7e8336f356414904946121c962ac8848",
      "value": "100%"
     }
    },
    "ae80a7b35379471fb0d56a8b40bb5a67": {
     "model_module": "@jupyter-widgets/controls",
     "model_module_version": "1.5.0",
     "model_name": "HTMLModel",
     "state": {
      "_dom_classes": [],
      "_model_module": "@jupyter-widgets/controls",
      "_model_module_version": "1.5.0",
      "_model_name": "HTMLModel",
      "_view_count": null,
      "_view_module": "@jupyter-widgets/controls",
      "_view_module_version": "1.5.0",
      "_view_name": "HTMLView",
      "description": "",
      "description_tooltip": null,
      "layout": "IPY_MODEL_76792e0489824c1997e87e3054371743",
      "placeholder": "​",
      "style": "IPY_MODEL_d00ff2ceb1bb4ea1bc9f4b90af047ee2",
      "value": " 6000/6000 [00:54&lt;00:00, 132.58it/s]"
     }
    },
    "b93c13cbeb714c2285fb709110b4b71e": {
     "model_module": "@jupyter-widgets/controls",
     "model_module_version": "1.5.0",
     "model_name": "ProgressStyleModel",
     "state": {
      "_model_module": "@jupyter-widgets/controls",
      "_model_module_version": "1.5.0",
      "_model_name": "ProgressStyleModel",
      "_view_count": null,
      "_view_module": "@jupyter-widgets/base",
      "_view_module_version": "1.2.0",
      "_view_name": "StyleView",
      "bar_color": null,
      "description_width": ""
     }
    },
    "d00ff2ceb1bb4ea1bc9f4b90af047ee2": {
     "model_module": "@jupyter-widgets/controls",
     "model_module_version": "1.5.0",
     "model_name": "DescriptionStyleModel",
     "state": {
      "_model_module": "@jupyter-widgets/controls",
      "_model_module_version": "1.5.0",
      "_model_name": "DescriptionStyleModel",
      "_view_count": null,
      "_view_module": "@jupyter-widgets/base",
      "_view_module_version": "1.2.0",
      "_view_name": "StyleView",
      "description_width": ""
     }
    },
    "d2a70818fbc8430781596cd7fa3aab91": {
     "model_module": "@jupyter-widgets/controls",
     "model_module_version": "1.5.0",
     "model_name": "HTMLModel",
     "state": {
      "_dom_classes": [],
      "_model_module": "@jupyter-widgets/controls",
      "_model_module_version": "1.5.0",
      "_model_name": "HTMLModel",
      "_view_count": null,
      "_view_module": "@jupyter-widgets/controls",
      "_view_module_version": "1.5.0",
      "_view_name": "HTMLView",
      "description": "",
      "description_tooltip": null,
      "layout": "IPY_MODEL_1b80fd5d3ad24282a85435387a0c6b87",
      "placeholder": "​",
      "style": "IPY_MODEL_7aa2a34234fa4338a656616286811a84",
      "value": "100%"
     }
    },
    "d519a42a21ab435996535412b5e418fe": {
     "model_module": "@jupyter-widgets/controls",
     "model_module_version": "1.5.0",
     "model_name": "DescriptionStyleModel",
     "state": {
      "_model_module": "@jupyter-widgets/controls",
      "_model_module_version": "1.5.0",
      "_model_name": "DescriptionStyleModel",
      "_view_count": null,
      "_view_module": "@jupyter-widgets/base",
      "_view_module_version": "1.2.0",
      "_view_name": "StyleView",
      "description_width": ""
     }
    },
    "e24f9c913d6f4390aa7f74e2ee356535": {
     "model_module": "@jupyter-widgets/controls",
     "model_module_version": "1.5.0",
     "model_name": "FloatProgressModel",
     "state": {
      "_dom_classes": [],
      "_model_module": "@jupyter-widgets/controls",
      "_model_module_version": "1.5.0",
      "_model_name": "FloatProgressModel",
      "_view_count": null,
      "_view_module": "@jupyter-widgets/controls",
      "_view_module_version": "1.5.0",
      "_view_name": "ProgressView",
      "bar_style": "success",
      "description": "",
      "description_tooltip": null,
      "layout": "IPY_MODEL_1caf48158d274ed5b69091b6996996de",
      "max": 200,
      "min": 0,
      "orientation": "horizontal",
      "style": "IPY_MODEL_866ba0a7f9d44ae8a445c9d74963be56",
      "value": 200
     }
    }
   }
  }
 },
 "nbformat": 4,
 "nbformat_minor": 0
}
